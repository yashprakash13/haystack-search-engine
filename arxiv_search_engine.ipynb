{
  "nbformat": 4,
  "nbformat_minor": 0,
  "metadata": {
    "colab": {
      "name": "arxiv-search-engine.ipynb",
      "provenance": [],
      "collapsed_sections": []
    },
    "kernelspec": {
      "name": "python3",
      "display_name": "Python 3"
    },
    "language_info": {
      "name": "python"
    },
    "accelerator": "GPU",
    "widgets": {
      "application/vnd.jupyter.widget-state+json": {
        "fcd26e2cef914230b3274b6bf41b3ccd": {
          "model_module": "@jupyter-widgets/controls",
          "model_name": "HBoxModel",
          "state": {
            "_view_name": "HBoxView",
            "_dom_classes": [],
            "_model_name": "HBoxModel",
            "_view_module": "@jupyter-widgets/controls",
            "_model_module_version": "1.5.0",
            "_view_count": null,
            "_view_module_version": "1.5.0",
            "box_style": "",
            "layout": "IPY_MODEL_b54a879cfdd84e99b817cfa9052225d5",
            "_model_module": "@jupyter-widgets/controls",
            "children": [
              "IPY_MODEL_d017e1d51702436181211bc7360f547a",
              "IPY_MODEL_28b9915f4ead4a99bfef28baf5e9f047"
            ]
          }
        },
        "b54a879cfdd84e99b817cfa9052225d5": {
          "model_module": "@jupyter-widgets/base",
          "model_name": "LayoutModel",
          "state": {
            "_view_name": "LayoutView",
            "grid_template_rows": null,
            "right": null,
            "justify_content": null,
            "_view_module": "@jupyter-widgets/base",
            "overflow": null,
            "_model_module_version": "1.2.0",
            "_view_count": null,
            "flex_flow": null,
            "width": null,
            "min_width": null,
            "border": null,
            "align_items": null,
            "bottom": null,
            "_model_module": "@jupyter-widgets/base",
            "top": null,
            "grid_column": null,
            "overflow_y": null,
            "overflow_x": null,
            "grid_auto_flow": null,
            "grid_area": null,
            "grid_template_columns": null,
            "flex": null,
            "_model_name": "LayoutModel",
            "justify_items": null,
            "grid_row": null,
            "max_height": null,
            "align_content": null,
            "visibility": null,
            "align_self": null,
            "height": null,
            "min_height": null,
            "padding": null,
            "grid_auto_rows": null,
            "grid_gap": null,
            "max_width": null,
            "order": null,
            "_view_module_version": "1.2.0",
            "grid_template_areas": null,
            "object_position": null,
            "object_fit": null,
            "grid_auto_columns": null,
            "margin": null,
            "display": null,
            "left": null
          }
        },
        "d017e1d51702436181211bc7360f547a": {
          "model_module": "@jupyter-widgets/controls",
          "model_name": "FloatProgressModel",
          "state": {
            "_view_name": "ProgressView",
            "style": "IPY_MODEL_d3f2dda034a64a0999d2146594e7ee84",
            "_dom_classes": [],
            "description": "100%",
            "_model_name": "FloatProgressModel",
            "bar_style": "success",
            "max": 305420057,
            "_view_module": "@jupyter-widgets/controls",
            "_model_module_version": "1.5.0",
            "value": 305420057,
            "_view_count": null,
            "_view_module_version": "1.5.0",
            "orientation": "horizontal",
            "min": 0,
            "description_tooltip": null,
            "_model_module": "@jupyter-widgets/controls",
            "layout": "IPY_MODEL_7253cd6bfb86412cbc8e9ca61f3373ac"
          }
        },
        "28b9915f4ead4a99bfef28baf5e9f047": {
          "model_module": "@jupyter-widgets/controls",
          "model_name": "HTMLModel",
          "state": {
            "_view_name": "HTMLView",
            "style": "IPY_MODEL_2037b310573b4ccaa2f7682d1f356fa7",
            "_dom_classes": [],
            "description": "",
            "_model_name": "HTMLModel",
            "placeholder": "​",
            "_view_module": "@jupyter-widgets/controls",
            "_model_module_version": "1.5.0",
            "value": " 305M/305M [00:21&lt;00:00, 14.2MB/s]",
            "_view_count": null,
            "_view_module_version": "1.5.0",
            "description_tooltip": null,
            "_model_module": "@jupyter-widgets/controls",
            "layout": "IPY_MODEL_e3afda5616884d4db80f2ff3c0ad8b32"
          }
        },
        "d3f2dda034a64a0999d2146594e7ee84": {
          "model_module": "@jupyter-widgets/controls",
          "model_name": "ProgressStyleModel",
          "state": {
            "_view_name": "StyleView",
            "_model_name": "ProgressStyleModel",
            "description_width": "initial",
            "_view_module": "@jupyter-widgets/base",
            "_model_module_version": "1.5.0",
            "_view_count": null,
            "_view_module_version": "1.2.0",
            "bar_color": null,
            "_model_module": "@jupyter-widgets/controls"
          }
        },
        "7253cd6bfb86412cbc8e9ca61f3373ac": {
          "model_module": "@jupyter-widgets/base",
          "model_name": "LayoutModel",
          "state": {
            "_view_name": "LayoutView",
            "grid_template_rows": null,
            "right": null,
            "justify_content": null,
            "_view_module": "@jupyter-widgets/base",
            "overflow": null,
            "_model_module_version": "1.2.0",
            "_view_count": null,
            "flex_flow": null,
            "width": null,
            "min_width": null,
            "border": null,
            "align_items": null,
            "bottom": null,
            "_model_module": "@jupyter-widgets/base",
            "top": null,
            "grid_column": null,
            "overflow_y": null,
            "overflow_x": null,
            "grid_auto_flow": null,
            "grid_area": null,
            "grid_template_columns": null,
            "flex": null,
            "_model_name": "LayoutModel",
            "justify_items": null,
            "grid_row": null,
            "max_height": null,
            "align_content": null,
            "visibility": null,
            "align_self": null,
            "height": null,
            "min_height": null,
            "padding": null,
            "grid_auto_rows": null,
            "grid_gap": null,
            "max_width": null,
            "order": null,
            "_view_module_version": "1.2.0",
            "grid_template_areas": null,
            "object_position": null,
            "object_fit": null,
            "grid_auto_columns": null,
            "margin": null,
            "display": null,
            "left": null
          }
        },
        "2037b310573b4ccaa2f7682d1f356fa7": {
          "model_module": "@jupyter-widgets/controls",
          "model_name": "DescriptionStyleModel",
          "state": {
            "_view_name": "StyleView",
            "_model_name": "DescriptionStyleModel",
            "description_width": "",
            "_view_module": "@jupyter-widgets/base",
            "_model_module_version": "1.5.0",
            "_view_count": null,
            "_view_module_version": "1.2.0",
            "_model_module": "@jupyter-widgets/controls"
          }
        },
        "e3afda5616884d4db80f2ff3c0ad8b32": {
          "model_module": "@jupyter-widgets/base",
          "model_name": "LayoutModel",
          "state": {
            "_view_name": "LayoutView",
            "grid_template_rows": null,
            "right": null,
            "justify_content": null,
            "_view_module": "@jupyter-widgets/base",
            "overflow": null,
            "_model_module_version": "1.2.0",
            "_view_count": null,
            "flex_flow": null,
            "width": null,
            "min_width": null,
            "border": null,
            "align_items": null,
            "bottom": null,
            "_model_module": "@jupyter-widgets/base",
            "top": null,
            "grid_column": null,
            "overflow_y": null,
            "overflow_x": null,
            "grid_auto_flow": null,
            "grid_area": null,
            "grid_template_columns": null,
            "flex": null,
            "_model_name": "LayoutModel",
            "justify_items": null,
            "grid_row": null,
            "max_height": null,
            "align_content": null,
            "visibility": null,
            "align_self": null,
            "height": null,
            "min_height": null,
            "padding": null,
            "grid_auto_rows": null,
            "grid_gap": null,
            "max_width": null,
            "order": null,
            "_view_module_version": "1.2.0",
            "grid_template_areas": null,
            "object_position": null,
            "object_fit": null,
            "grid_auto_columns": null,
            "margin": null,
            "display": null,
            "left": null
          }
        },
        "80aaa14f9ffc4db5a010c77830b22cb8": {
          "model_module": "@jupyter-widgets/controls",
          "model_name": "HBoxModel",
          "state": {
            "_view_name": "HBoxView",
            "_dom_classes": [],
            "_model_name": "HBoxModel",
            "_view_module": "@jupyter-widgets/controls",
            "_model_module_version": "1.5.0",
            "_view_count": null,
            "_view_module_version": "1.5.0",
            "box_style": "",
            "layout": "IPY_MODEL_96b15b42c10e4f66a85c0865ac731e6b",
            "_model_module": "@jupyter-widgets/controls",
            "children": [
              "IPY_MODEL_039f60331a8e4e8fb48e051ba50d414c",
              "IPY_MODEL_50676454e38941dabb99fa2f7f3c4c66"
            ]
          }
        },
        "96b15b42c10e4f66a85c0865ac731e6b": {
          "model_module": "@jupyter-widgets/base",
          "model_name": "LayoutModel",
          "state": {
            "_view_name": "LayoutView",
            "grid_template_rows": null,
            "right": null,
            "justify_content": null,
            "_view_module": "@jupyter-widgets/base",
            "overflow": null,
            "_model_module_version": "1.2.0",
            "_view_count": null,
            "flex_flow": null,
            "width": null,
            "min_width": null,
            "border": null,
            "align_items": null,
            "bottom": null,
            "_model_module": "@jupyter-widgets/base",
            "top": null,
            "grid_column": null,
            "overflow_y": null,
            "overflow_x": null,
            "grid_auto_flow": null,
            "grid_area": null,
            "grid_template_columns": null,
            "flex": null,
            "_model_name": "LayoutModel",
            "justify_items": null,
            "grid_row": null,
            "max_height": null,
            "align_content": null,
            "visibility": null,
            "align_self": null,
            "height": null,
            "min_height": null,
            "padding": null,
            "grid_auto_rows": null,
            "grid_gap": null,
            "max_width": null,
            "order": null,
            "_view_module_version": "1.2.0",
            "grid_template_areas": null,
            "object_position": null,
            "object_fit": null,
            "grid_auto_columns": null,
            "margin": null,
            "display": null,
            "left": null
          }
        },
        "039f60331a8e4e8fb48e051ba50d414c": {
          "model_module": "@jupyter-widgets/controls",
          "model_name": "FloatProgressModel",
          "state": {
            "_view_name": "ProgressView",
            "style": "IPY_MODEL_9b41c316ce1b4590991ef99cf760612e",
            "_dom_classes": [],
            "description": "Batches: 100%",
            "_model_name": "FloatProgressModel",
            "bar_style": "success",
            "max": 313,
            "_view_module": "@jupyter-widgets/controls",
            "_model_module_version": "1.5.0",
            "value": 313,
            "_view_count": null,
            "_view_module_version": "1.5.0",
            "orientation": "horizontal",
            "min": 0,
            "description_tooltip": null,
            "_model_module": "@jupyter-widgets/controls",
            "layout": "IPY_MODEL_1e73a324252b42509112d0c67eefb853"
          }
        },
        "50676454e38941dabb99fa2f7f3c4c66": {
          "model_module": "@jupyter-widgets/controls",
          "model_name": "HTMLModel",
          "state": {
            "_view_name": "HTMLView",
            "style": "IPY_MODEL_9820e93d3fd64f458cbebecc9b52fdb6",
            "_dom_classes": [],
            "description": "",
            "_model_name": "HTMLModel",
            "placeholder": "​",
            "_view_module": "@jupyter-widgets/controls",
            "_model_module_version": "1.5.0",
            "value": " 313/313 [01:14&lt;00:00,  4.22it/s]",
            "_view_count": null,
            "_view_module_version": "1.5.0",
            "description_tooltip": null,
            "_model_module": "@jupyter-widgets/controls",
            "layout": "IPY_MODEL_77b31e241b3c48cfb8baba7d6fb7facd"
          }
        },
        "9b41c316ce1b4590991ef99cf760612e": {
          "model_module": "@jupyter-widgets/controls",
          "model_name": "ProgressStyleModel",
          "state": {
            "_view_name": "StyleView",
            "_model_name": "ProgressStyleModel",
            "description_width": "initial",
            "_view_module": "@jupyter-widgets/base",
            "_model_module_version": "1.5.0",
            "_view_count": null,
            "_view_module_version": "1.2.0",
            "bar_color": null,
            "_model_module": "@jupyter-widgets/controls"
          }
        },
        "1e73a324252b42509112d0c67eefb853": {
          "model_module": "@jupyter-widgets/base",
          "model_name": "LayoutModel",
          "state": {
            "_view_name": "LayoutView",
            "grid_template_rows": null,
            "right": null,
            "justify_content": null,
            "_view_module": "@jupyter-widgets/base",
            "overflow": null,
            "_model_module_version": "1.2.0",
            "_view_count": null,
            "flex_flow": null,
            "width": null,
            "min_width": null,
            "border": null,
            "align_items": null,
            "bottom": null,
            "_model_module": "@jupyter-widgets/base",
            "top": null,
            "grid_column": null,
            "overflow_y": null,
            "overflow_x": null,
            "grid_auto_flow": null,
            "grid_area": null,
            "grid_template_columns": null,
            "flex": null,
            "_model_name": "LayoutModel",
            "justify_items": null,
            "grid_row": null,
            "max_height": null,
            "align_content": null,
            "visibility": null,
            "align_self": null,
            "height": null,
            "min_height": null,
            "padding": null,
            "grid_auto_rows": null,
            "grid_gap": null,
            "max_width": null,
            "order": null,
            "_view_module_version": "1.2.0",
            "grid_template_areas": null,
            "object_position": null,
            "object_fit": null,
            "grid_auto_columns": null,
            "margin": null,
            "display": null,
            "left": null
          }
        },
        "9820e93d3fd64f458cbebecc9b52fdb6": {
          "model_module": "@jupyter-widgets/controls",
          "model_name": "DescriptionStyleModel",
          "state": {
            "_view_name": "StyleView",
            "_model_name": "DescriptionStyleModel",
            "description_width": "",
            "_view_module": "@jupyter-widgets/base",
            "_model_module_version": "1.5.0",
            "_view_count": null,
            "_view_module_version": "1.2.0",
            "_model_module": "@jupyter-widgets/controls"
          }
        },
        "77b31e241b3c48cfb8baba7d6fb7facd": {
          "model_module": "@jupyter-widgets/base",
          "model_name": "LayoutModel",
          "state": {
            "_view_name": "LayoutView",
            "grid_template_rows": null,
            "right": null,
            "justify_content": null,
            "_view_module": "@jupyter-widgets/base",
            "overflow": null,
            "_model_module_version": "1.2.0",
            "_view_count": null,
            "flex_flow": null,
            "width": null,
            "min_width": null,
            "border": null,
            "align_items": null,
            "bottom": null,
            "_model_module": "@jupyter-widgets/base",
            "top": null,
            "grid_column": null,
            "overflow_y": null,
            "overflow_x": null,
            "grid_auto_flow": null,
            "grid_area": null,
            "grid_template_columns": null,
            "flex": null,
            "_model_name": "LayoutModel",
            "justify_items": null,
            "grid_row": null,
            "max_height": null,
            "align_content": null,
            "visibility": null,
            "align_self": null,
            "height": null,
            "min_height": null,
            "padding": null,
            "grid_auto_rows": null,
            "grid_gap": null,
            "max_width": null,
            "order": null,
            "_view_module_version": "1.2.0",
            "grid_template_areas": null,
            "object_position": null,
            "object_fit": null,
            "grid_auto_columns": null,
            "margin": null,
            "display": null,
            "left": null
          }
        },
        "4dcab80e37a84769ba7757143ffe4028": {
          "model_module": "@jupyter-widgets/controls",
          "model_name": "HBoxModel",
          "state": {
            "_view_name": "HBoxView",
            "_dom_classes": [],
            "_model_name": "HBoxModel",
            "_view_module": "@jupyter-widgets/controls",
            "_model_module_version": "1.5.0",
            "_view_count": null,
            "_view_module_version": "1.5.0",
            "box_style": "",
            "layout": "IPY_MODEL_5ecef7639b0c44cd8ef737a06cebb9ec",
            "_model_module": "@jupyter-widgets/controls",
            "children": [
              "IPY_MODEL_4249af7219f14df3a54e1457a991d664",
              "IPY_MODEL_c4ded71b477043af813ec9d30d6994a2"
            ]
          }
        },
        "5ecef7639b0c44cd8ef737a06cebb9ec": {
          "model_module": "@jupyter-widgets/base",
          "model_name": "LayoutModel",
          "state": {
            "_view_name": "LayoutView",
            "grid_template_rows": null,
            "right": null,
            "justify_content": null,
            "_view_module": "@jupyter-widgets/base",
            "overflow": null,
            "_model_module_version": "1.2.0",
            "_view_count": null,
            "flex_flow": null,
            "width": null,
            "min_width": null,
            "border": null,
            "align_items": null,
            "bottom": null,
            "_model_module": "@jupyter-widgets/base",
            "top": null,
            "grid_column": null,
            "overflow_y": null,
            "overflow_x": null,
            "grid_auto_flow": null,
            "grid_area": null,
            "grid_template_columns": null,
            "flex": null,
            "_model_name": "LayoutModel",
            "justify_items": null,
            "grid_row": null,
            "max_height": null,
            "align_content": null,
            "visibility": null,
            "align_self": null,
            "height": null,
            "min_height": null,
            "padding": null,
            "grid_auto_rows": null,
            "grid_gap": null,
            "max_width": null,
            "order": null,
            "_view_module_version": "1.2.0",
            "grid_template_areas": null,
            "object_position": null,
            "object_fit": null,
            "grid_auto_columns": null,
            "margin": null,
            "display": null,
            "left": null
          }
        },
        "4249af7219f14df3a54e1457a991d664": {
          "model_module": "@jupyter-widgets/controls",
          "model_name": "FloatProgressModel",
          "state": {
            "_view_name": "ProgressView",
            "style": "IPY_MODEL_478dba03db5648a79544bebe03f9d9e2",
            "_dom_classes": [],
            "description": "Batches: 100%",
            "_model_name": "FloatProgressModel",
            "bar_style": "success",
            "max": 313,
            "_view_module": "@jupyter-widgets/controls",
            "_model_module_version": "1.5.0",
            "value": 313,
            "_view_count": null,
            "_view_module_version": "1.5.0",
            "orientation": "horizontal",
            "min": 0,
            "description_tooltip": null,
            "_model_module": "@jupyter-widgets/controls",
            "layout": "IPY_MODEL_45230c8e86584b88a36756b2c88aa799"
          }
        },
        "c4ded71b477043af813ec9d30d6994a2": {
          "model_module": "@jupyter-widgets/controls",
          "model_name": "HTMLModel",
          "state": {
            "_view_name": "HTMLView",
            "style": "IPY_MODEL_d0a9fcef83654c8fbc32f6b938532fff",
            "_dom_classes": [],
            "description": "",
            "_model_name": "HTMLModel",
            "placeholder": "​",
            "_view_module": "@jupyter-widgets/controls",
            "_model_module_version": "1.5.0",
            "value": " 313/313 [01:22&lt;00:00,  3.81it/s]",
            "_view_count": null,
            "_view_module_version": "1.5.0",
            "description_tooltip": null,
            "_model_module": "@jupyter-widgets/controls",
            "layout": "IPY_MODEL_43fa926359d049f0957a5a01d9488528"
          }
        },
        "478dba03db5648a79544bebe03f9d9e2": {
          "model_module": "@jupyter-widgets/controls",
          "model_name": "ProgressStyleModel",
          "state": {
            "_view_name": "StyleView",
            "_model_name": "ProgressStyleModel",
            "description_width": "initial",
            "_view_module": "@jupyter-widgets/base",
            "_model_module_version": "1.5.0",
            "_view_count": null,
            "_view_module_version": "1.2.0",
            "bar_color": null,
            "_model_module": "@jupyter-widgets/controls"
          }
        },
        "45230c8e86584b88a36756b2c88aa799": {
          "model_module": "@jupyter-widgets/base",
          "model_name": "LayoutModel",
          "state": {
            "_view_name": "LayoutView",
            "grid_template_rows": null,
            "right": null,
            "justify_content": null,
            "_view_module": "@jupyter-widgets/base",
            "overflow": null,
            "_model_module_version": "1.2.0",
            "_view_count": null,
            "flex_flow": null,
            "width": null,
            "min_width": null,
            "border": null,
            "align_items": null,
            "bottom": null,
            "_model_module": "@jupyter-widgets/base",
            "top": null,
            "grid_column": null,
            "overflow_y": null,
            "overflow_x": null,
            "grid_auto_flow": null,
            "grid_area": null,
            "grid_template_columns": null,
            "flex": null,
            "_model_name": "LayoutModel",
            "justify_items": null,
            "grid_row": null,
            "max_height": null,
            "align_content": null,
            "visibility": null,
            "align_self": null,
            "height": null,
            "min_height": null,
            "padding": null,
            "grid_auto_rows": null,
            "grid_gap": null,
            "max_width": null,
            "order": null,
            "_view_module_version": "1.2.0",
            "grid_template_areas": null,
            "object_position": null,
            "object_fit": null,
            "grid_auto_columns": null,
            "margin": null,
            "display": null,
            "left": null
          }
        },
        "d0a9fcef83654c8fbc32f6b938532fff": {
          "model_module": "@jupyter-widgets/controls",
          "model_name": "DescriptionStyleModel",
          "state": {
            "_view_name": "StyleView",
            "_model_name": "DescriptionStyleModel",
            "description_width": "",
            "_view_module": "@jupyter-widgets/base",
            "_model_module_version": "1.5.0",
            "_view_count": null,
            "_view_module_version": "1.2.0",
            "_model_module": "@jupyter-widgets/controls"
          }
        },
        "43fa926359d049f0957a5a01d9488528": {
          "model_module": "@jupyter-widgets/base",
          "model_name": "LayoutModel",
          "state": {
            "_view_name": "LayoutView",
            "grid_template_rows": null,
            "right": null,
            "justify_content": null,
            "_view_module": "@jupyter-widgets/base",
            "overflow": null,
            "_model_module_version": "1.2.0",
            "_view_count": null,
            "flex_flow": null,
            "width": null,
            "min_width": null,
            "border": null,
            "align_items": null,
            "bottom": null,
            "_model_module": "@jupyter-widgets/base",
            "top": null,
            "grid_column": null,
            "overflow_y": null,
            "overflow_x": null,
            "grid_auto_flow": null,
            "grid_area": null,
            "grid_template_columns": null,
            "flex": null,
            "_model_name": "LayoutModel",
            "justify_items": null,
            "grid_row": null,
            "max_height": null,
            "align_content": null,
            "visibility": null,
            "align_self": null,
            "height": null,
            "min_height": null,
            "padding": null,
            "grid_auto_rows": null,
            "grid_gap": null,
            "max_width": null,
            "order": null,
            "_view_module_version": "1.2.0",
            "grid_template_areas": null,
            "object_position": null,
            "object_fit": null,
            "grid_auto_columns": null,
            "margin": null,
            "display": null,
            "left": null
          }
        },
        "5850b0a05cd548e583ab35e089c2eadc": {
          "model_module": "@jupyter-widgets/controls",
          "model_name": "HBoxModel",
          "state": {
            "_view_name": "HBoxView",
            "_dom_classes": [],
            "_model_name": "HBoxModel",
            "_view_module": "@jupyter-widgets/controls",
            "_model_module_version": "1.5.0",
            "_view_count": null,
            "_view_module_version": "1.5.0",
            "box_style": "",
            "layout": "IPY_MODEL_56099be53a3447358347884dd939fdc9",
            "_model_module": "@jupyter-widgets/controls",
            "children": [
              "IPY_MODEL_737c7e06b01f449d8ab609111c3d8b44",
              "IPY_MODEL_4cc42b3d57604e72bcea13d8f1baba2c"
            ]
          }
        },
        "56099be53a3447358347884dd939fdc9": {
          "model_module": "@jupyter-widgets/base",
          "model_name": "LayoutModel",
          "state": {
            "_view_name": "LayoutView",
            "grid_template_rows": null,
            "right": null,
            "justify_content": null,
            "_view_module": "@jupyter-widgets/base",
            "overflow": null,
            "_model_module_version": "1.2.0",
            "_view_count": null,
            "flex_flow": null,
            "width": null,
            "min_width": null,
            "border": null,
            "align_items": null,
            "bottom": null,
            "_model_module": "@jupyter-widgets/base",
            "top": null,
            "grid_column": null,
            "overflow_y": null,
            "overflow_x": null,
            "grid_auto_flow": null,
            "grid_area": null,
            "grid_template_columns": null,
            "flex": null,
            "_model_name": "LayoutModel",
            "justify_items": null,
            "grid_row": null,
            "max_height": null,
            "align_content": null,
            "visibility": null,
            "align_self": null,
            "height": null,
            "min_height": null,
            "padding": null,
            "grid_auto_rows": null,
            "grid_gap": null,
            "max_width": null,
            "order": null,
            "_view_module_version": "1.2.0",
            "grid_template_areas": null,
            "object_position": null,
            "object_fit": null,
            "grid_auto_columns": null,
            "margin": null,
            "display": null,
            "left": null
          }
        },
        "737c7e06b01f449d8ab609111c3d8b44": {
          "model_module": "@jupyter-widgets/controls",
          "model_name": "FloatProgressModel",
          "state": {
            "_view_name": "ProgressView",
            "style": "IPY_MODEL_072c332c462941589cd58bd62b7ee127",
            "_dom_classes": [],
            "description": "Batches: 100%",
            "_model_name": "FloatProgressModel",
            "bar_style": "success",
            "max": 313,
            "_view_module": "@jupyter-widgets/controls",
            "_model_module_version": "1.5.0",
            "value": 313,
            "_view_count": null,
            "_view_module_version": "1.5.0",
            "orientation": "horizontal",
            "min": 0,
            "description_tooltip": null,
            "_model_module": "@jupyter-widgets/controls",
            "layout": "IPY_MODEL_2616fe8a3a854c2ea593203cab4a0568"
          }
        },
        "4cc42b3d57604e72bcea13d8f1baba2c": {
          "model_module": "@jupyter-widgets/controls",
          "model_name": "HTMLModel",
          "state": {
            "_view_name": "HTMLView",
            "style": "IPY_MODEL_18cb9876d091491b84ea0a62f26381ba",
            "_dom_classes": [],
            "description": "",
            "_model_name": "HTMLModel",
            "placeholder": "​",
            "_view_module": "@jupyter-widgets/controls",
            "_model_module_version": "1.5.0",
            "value": " 313/313 [01:19&lt;00:00,  3.95it/s]",
            "_view_count": null,
            "_view_module_version": "1.5.0",
            "description_tooltip": null,
            "_model_module": "@jupyter-widgets/controls",
            "layout": "IPY_MODEL_373ee3f4232b41bea6b9a834c1a8854c"
          }
        },
        "072c332c462941589cd58bd62b7ee127": {
          "model_module": "@jupyter-widgets/controls",
          "model_name": "ProgressStyleModel",
          "state": {
            "_view_name": "StyleView",
            "_model_name": "ProgressStyleModel",
            "description_width": "initial",
            "_view_module": "@jupyter-widgets/base",
            "_model_module_version": "1.5.0",
            "_view_count": null,
            "_view_module_version": "1.2.0",
            "bar_color": null,
            "_model_module": "@jupyter-widgets/controls"
          }
        },
        "2616fe8a3a854c2ea593203cab4a0568": {
          "model_module": "@jupyter-widgets/base",
          "model_name": "LayoutModel",
          "state": {
            "_view_name": "LayoutView",
            "grid_template_rows": null,
            "right": null,
            "justify_content": null,
            "_view_module": "@jupyter-widgets/base",
            "overflow": null,
            "_model_module_version": "1.2.0",
            "_view_count": null,
            "flex_flow": null,
            "width": null,
            "min_width": null,
            "border": null,
            "align_items": null,
            "bottom": null,
            "_model_module": "@jupyter-widgets/base",
            "top": null,
            "grid_column": null,
            "overflow_y": null,
            "overflow_x": null,
            "grid_auto_flow": null,
            "grid_area": null,
            "grid_template_columns": null,
            "flex": null,
            "_model_name": "LayoutModel",
            "justify_items": null,
            "grid_row": null,
            "max_height": null,
            "align_content": null,
            "visibility": null,
            "align_self": null,
            "height": null,
            "min_height": null,
            "padding": null,
            "grid_auto_rows": null,
            "grid_gap": null,
            "max_width": null,
            "order": null,
            "_view_module_version": "1.2.0",
            "grid_template_areas": null,
            "object_position": null,
            "object_fit": null,
            "grid_auto_columns": null,
            "margin": null,
            "display": null,
            "left": null
          }
        },
        "18cb9876d091491b84ea0a62f26381ba": {
          "model_module": "@jupyter-widgets/controls",
          "model_name": "DescriptionStyleModel",
          "state": {
            "_view_name": "StyleView",
            "_model_name": "DescriptionStyleModel",
            "description_width": "",
            "_view_module": "@jupyter-widgets/base",
            "_model_module_version": "1.5.0",
            "_view_count": null,
            "_view_module_version": "1.2.0",
            "_model_module": "@jupyter-widgets/controls"
          }
        },
        "373ee3f4232b41bea6b9a834c1a8854c": {
          "model_module": "@jupyter-widgets/base",
          "model_name": "LayoutModel",
          "state": {
            "_view_name": "LayoutView",
            "grid_template_rows": null,
            "right": null,
            "justify_content": null,
            "_view_module": "@jupyter-widgets/base",
            "overflow": null,
            "_model_module_version": "1.2.0",
            "_view_count": null,
            "flex_flow": null,
            "width": null,
            "min_width": null,
            "border": null,
            "align_items": null,
            "bottom": null,
            "_model_module": "@jupyter-widgets/base",
            "top": null,
            "grid_column": null,
            "overflow_y": null,
            "overflow_x": null,
            "grid_auto_flow": null,
            "grid_area": null,
            "grid_template_columns": null,
            "flex": null,
            "_model_name": "LayoutModel",
            "justify_items": null,
            "grid_row": null,
            "max_height": null,
            "align_content": null,
            "visibility": null,
            "align_self": null,
            "height": null,
            "min_height": null,
            "padding": null,
            "grid_auto_rows": null,
            "grid_gap": null,
            "max_width": null,
            "order": null,
            "_view_module_version": "1.2.0",
            "grid_template_areas": null,
            "object_position": null,
            "object_fit": null,
            "grid_auto_columns": null,
            "margin": null,
            "display": null,
            "left": null
          }
        },
        "bd710321dc6a412dbef4ec08ce738af6": {
          "model_module": "@jupyter-widgets/controls",
          "model_name": "HBoxModel",
          "state": {
            "_view_name": "HBoxView",
            "_dom_classes": [],
            "_model_name": "HBoxModel",
            "_view_module": "@jupyter-widgets/controls",
            "_model_module_version": "1.5.0",
            "_view_count": null,
            "_view_module_version": "1.5.0",
            "box_style": "",
            "layout": "IPY_MODEL_6c58aebed63240838c24ea3f1557d7bf",
            "_model_module": "@jupyter-widgets/controls",
            "children": [
              "IPY_MODEL_50db6ec6a4a4401b956a042b5b431943",
              "IPY_MODEL_926cd32be1bd4dd0b72b22af10d29f13"
            ]
          }
        },
        "6c58aebed63240838c24ea3f1557d7bf": {
          "model_module": "@jupyter-widgets/base",
          "model_name": "LayoutModel",
          "state": {
            "_view_name": "LayoutView",
            "grid_template_rows": null,
            "right": null,
            "justify_content": null,
            "_view_module": "@jupyter-widgets/base",
            "overflow": null,
            "_model_module_version": "1.2.0",
            "_view_count": null,
            "flex_flow": null,
            "width": null,
            "min_width": null,
            "border": null,
            "align_items": null,
            "bottom": null,
            "_model_module": "@jupyter-widgets/base",
            "top": null,
            "grid_column": null,
            "overflow_y": null,
            "overflow_x": null,
            "grid_auto_flow": null,
            "grid_area": null,
            "grid_template_columns": null,
            "flex": null,
            "_model_name": "LayoutModel",
            "justify_items": null,
            "grid_row": null,
            "max_height": null,
            "align_content": null,
            "visibility": null,
            "align_self": null,
            "height": null,
            "min_height": null,
            "padding": null,
            "grid_auto_rows": null,
            "grid_gap": null,
            "max_width": null,
            "order": null,
            "_view_module_version": "1.2.0",
            "grid_template_areas": null,
            "object_position": null,
            "object_fit": null,
            "grid_auto_columns": null,
            "margin": null,
            "display": null,
            "left": null
          }
        },
        "50db6ec6a4a4401b956a042b5b431943": {
          "model_module": "@jupyter-widgets/controls",
          "model_name": "FloatProgressModel",
          "state": {
            "_view_name": "ProgressView",
            "style": "IPY_MODEL_9e482da1485d40a98b3b82aa1bcfe3af",
            "_dom_classes": [],
            "description": "Batches: 100%",
            "_model_name": "FloatProgressModel",
            "bar_style": "success",
            "max": 313,
            "_view_module": "@jupyter-widgets/controls",
            "_model_module_version": "1.5.0",
            "value": 313,
            "_view_count": null,
            "_view_module_version": "1.5.0",
            "orientation": "horizontal",
            "min": 0,
            "description_tooltip": null,
            "_model_module": "@jupyter-widgets/controls",
            "layout": "IPY_MODEL_a46ffdb42c614ad1b32e34c3324dd616"
          }
        },
        "926cd32be1bd4dd0b72b22af10d29f13": {
          "model_module": "@jupyter-widgets/controls",
          "model_name": "HTMLModel",
          "state": {
            "_view_name": "HTMLView",
            "style": "IPY_MODEL_f51203ef5ff44c3e9a29dfdad22a45ac",
            "_dom_classes": [],
            "description": "",
            "_model_name": "HTMLModel",
            "placeholder": "​",
            "_view_module": "@jupyter-widgets/controls",
            "_model_module_version": "1.5.0",
            "value": " 313/313 [01:18&lt;00:00,  3.97it/s]",
            "_view_count": null,
            "_view_module_version": "1.5.0",
            "description_tooltip": null,
            "_model_module": "@jupyter-widgets/controls",
            "layout": "IPY_MODEL_bd4f1ba54b0d4c68bcaae102d7cc44e0"
          }
        },
        "9e482da1485d40a98b3b82aa1bcfe3af": {
          "model_module": "@jupyter-widgets/controls",
          "model_name": "ProgressStyleModel",
          "state": {
            "_view_name": "StyleView",
            "_model_name": "ProgressStyleModel",
            "description_width": "initial",
            "_view_module": "@jupyter-widgets/base",
            "_model_module_version": "1.5.0",
            "_view_count": null,
            "_view_module_version": "1.2.0",
            "bar_color": null,
            "_model_module": "@jupyter-widgets/controls"
          }
        },
        "a46ffdb42c614ad1b32e34c3324dd616": {
          "model_module": "@jupyter-widgets/base",
          "model_name": "LayoutModel",
          "state": {
            "_view_name": "LayoutView",
            "grid_template_rows": null,
            "right": null,
            "justify_content": null,
            "_view_module": "@jupyter-widgets/base",
            "overflow": null,
            "_model_module_version": "1.2.0",
            "_view_count": null,
            "flex_flow": null,
            "width": null,
            "min_width": null,
            "border": null,
            "align_items": null,
            "bottom": null,
            "_model_module": "@jupyter-widgets/base",
            "top": null,
            "grid_column": null,
            "overflow_y": null,
            "overflow_x": null,
            "grid_auto_flow": null,
            "grid_area": null,
            "grid_template_columns": null,
            "flex": null,
            "_model_name": "LayoutModel",
            "justify_items": null,
            "grid_row": null,
            "max_height": null,
            "align_content": null,
            "visibility": null,
            "align_self": null,
            "height": null,
            "min_height": null,
            "padding": null,
            "grid_auto_rows": null,
            "grid_gap": null,
            "max_width": null,
            "order": null,
            "_view_module_version": "1.2.0",
            "grid_template_areas": null,
            "object_position": null,
            "object_fit": null,
            "grid_auto_columns": null,
            "margin": null,
            "display": null,
            "left": null
          }
        },
        "f51203ef5ff44c3e9a29dfdad22a45ac": {
          "model_module": "@jupyter-widgets/controls",
          "model_name": "DescriptionStyleModel",
          "state": {
            "_view_name": "StyleView",
            "_model_name": "DescriptionStyleModel",
            "description_width": "",
            "_view_module": "@jupyter-widgets/base",
            "_model_module_version": "1.5.0",
            "_view_count": null,
            "_view_module_version": "1.2.0",
            "_model_module": "@jupyter-widgets/controls"
          }
        },
        "bd4f1ba54b0d4c68bcaae102d7cc44e0": {
          "model_module": "@jupyter-widgets/base",
          "model_name": "LayoutModel",
          "state": {
            "_view_name": "LayoutView",
            "grid_template_rows": null,
            "right": null,
            "justify_content": null,
            "_view_module": "@jupyter-widgets/base",
            "overflow": null,
            "_model_module_version": "1.2.0",
            "_view_count": null,
            "flex_flow": null,
            "width": null,
            "min_width": null,
            "border": null,
            "align_items": null,
            "bottom": null,
            "_model_module": "@jupyter-widgets/base",
            "top": null,
            "grid_column": null,
            "overflow_y": null,
            "overflow_x": null,
            "grid_auto_flow": null,
            "grid_area": null,
            "grid_template_columns": null,
            "flex": null,
            "_model_name": "LayoutModel",
            "justify_items": null,
            "grid_row": null,
            "max_height": null,
            "align_content": null,
            "visibility": null,
            "align_self": null,
            "height": null,
            "min_height": null,
            "padding": null,
            "grid_auto_rows": null,
            "grid_gap": null,
            "max_width": null,
            "order": null,
            "_view_module_version": "1.2.0",
            "grid_template_areas": null,
            "object_position": null,
            "object_fit": null,
            "grid_auto_columns": null,
            "margin": null,
            "display": null,
            "left": null
          }
        },
        "7a7756ecb4ec4c2490c41cf7e09d3824": {
          "model_module": "@jupyter-widgets/controls",
          "model_name": "HBoxModel",
          "state": {
            "_view_name": "HBoxView",
            "_dom_classes": [],
            "_model_name": "HBoxModel",
            "_view_module": "@jupyter-widgets/controls",
            "_model_module_version": "1.5.0",
            "_view_count": null,
            "_view_module_version": "1.5.0",
            "box_style": "",
            "layout": "IPY_MODEL_c25692d9fcfb4bb4b7bbf0d94a4d79be",
            "_model_module": "@jupyter-widgets/controls",
            "children": [
              "IPY_MODEL_1df0a7a257ee487ab4e9d88b35f2eea6",
              "IPY_MODEL_dcbae27f4961499a9bb25bf2020dba0e"
            ]
          }
        },
        "c25692d9fcfb4bb4b7bbf0d94a4d79be": {
          "model_module": "@jupyter-widgets/base",
          "model_name": "LayoutModel",
          "state": {
            "_view_name": "LayoutView",
            "grid_template_rows": null,
            "right": null,
            "justify_content": null,
            "_view_module": "@jupyter-widgets/base",
            "overflow": null,
            "_model_module_version": "1.2.0",
            "_view_count": null,
            "flex_flow": null,
            "width": null,
            "min_width": null,
            "border": null,
            "align_items": null,
            "bottom": null,
            "_model_module": "@jupyter-widgets/base",
            "top": null,
            "grid_column": null,
            "overflow_y": null,
            "overflow_x": null,
            "grid_auto_flow": null,
            "grid_area": null,
            "grid_template_columns": null,
            "flex": null,
            "_model_name": "LayoutModel",
            "justify_items": null,
            "grid_row": null,
            "max_height": null,
            "align_content": null,
            "visibility": null,
            "align_self": null,
            "height": null,
            "min_height": null,
            "padding": null,
            "grid_auto_rows": null,
            "grid_gap": null,
            "max_width": null,
            "order": null,
            "_view_module_version": "1.2.0",
            "grid_template_areas": null,
            "object_position": null,
            "object_fit": null,
            "grid_auto_columns": null,
            "margin": null,
            "display": null,
            "left": null
          }
        },
        "1df0a7a257ee487ab4e9d88b35f2eea6": {
          "model_module": "@jupyter-widgets/controls",
          "model_name": "FloatProgressModel",
          "state": {
            "_view_name": "ProgressView",
            "style": "IPY_MODEL_77cec5c593c84ce597f068e26319ecd8",
            "_dom_classes": [],
            "description": "Batches: 100%",
            "_model_name": "FloatProgressModel",
            "bar_style": "success",
            "max": 313,
            "_view_module": "@jupyter-widgets/controls",
            "_model_module_version": "1.5.0",
            "value": 313,
            "_view_count": null,
            "_view_module_version": "1.5.0",
            "orientation": "horizontal",
            "min": 0,
            "description_tooltip": null,
            "_model_module": "@jupyter-widgets/controls",
            "layout": "IPY_MODEL_3ca12f4de00d417195f4906ed9e03bfc"
          }
        },
        "dcbae27f4961499a9bb25bf2020dba0e": {
          "model_module": "@jupyter-widgets/controls",
          "model_name": "HTMLModel",
          "state": {
            "_view_name": "HTMLView",
            "style": "IPY_MODEL_6371b02749e04a64a80eccc9b6bf7944",
            "_dom_classes": [],
            "description": "",
            "_model_name": "HTMLModel",
            "placeholder": "​",
            "_view_module": "@jupyter-widgets/controls",
            "_model_module_version": "1.5.0",
            "value": " 313/313 [01:20&lt;00:00,  3.89it/s]",
            "_view_count": null,
            "_view_module_version": "1.5.0",
            "description_tooltip": null,
            "_model_module": "@jupyter-widgets/controls",
            "layout": "IPY_MODEL_01146b767a4f4b7ba0aec6c86bc3ec2e"
          }
        },
        "77cec5c593c84ce597f068e26319ecd8": {
          "model_module": "@jupyter-widgets/controls",
          "model_name": "ProgressStyleModel",
          "state": {
            "_view_name": "StyleView",
            "_model_name": "ProgressStyleModel",
            "description_width": "initial",
            "_view_module": "@jupyter-widgets/base",
            "_model_module_version": "1.5.0",
            "_view_count": null,
            "_view_module_version": "1.2.0",
            "bar_color": null,
            "_model_module": "@jupyter-widgets/controls"
          }
        },
        "3ca12f4de00d417195f4906ed9e03bfc": {
          "model_module": "@jupyter-widgets/base",
          "model_name": "LayoutModel",
          "state": {
            "_view_name": "LayoutView",
            "grid_template_rows": null,
            "right": null,
            "justify_content": null,
            "_view_module": "@jupyter-widgets/base",
            "overflow": null,
            "_model_module_version": "1.2.0",
            "_view_count": null,
            "flex_flow": null,
            "width": null,
            "min_width": null,
            "border": null,
            "align_items": null,
            "bottom": null,
            "_model_module": "@jupyter-widgets/base",
            "top": null,
            "grid_column": null,
            "overflow_y": null,
            "overflow_x": null,
            "grid_auto_flow": null,
            "grid_area": null,
            "grid_template_columns": null,
            "flex": null,
            "_model_name": "LayoutModel",
            "justify_items": null,
            "grid_row": null,
            "max_height": null,
            "align_content": null,
            "visibility": null,
            "align_self": null,
            "height": null,
            "min_height": null,
            "padding": null,
            "grid_auto_rows": null,
            "grid_gap": null,
            "max_width": null,
            "order": null,
            "_view_module_version": "1.2.0",
            "grid_template_areas": null,
            "object_position": null,
            "object_fit": null,
            "grid_auto_columns": null,
            "margin": null,
            "display": null,
            "left": null
          }
        },
        "6371b02749e04a64a80eccc9b6bf7944": {
          "model_module": "@jupyter-widgets/controls",
          "model_name": "DescriptionStyleModel",
          "state": {
            "_view_name": "StyleView",
            "_model_name": "DescriptionStyleModel",
            "description_width": "",
            "_view_module": "@jupyter-widgets/base",
            "_model_module_version": "1.5.0",
            "_view_count": null,
            "_view_module_version": "1.2.0",
            "_model_module": "@jupyter-widgets/controls"
          }
        },
        "01146b767a4f4b7ba0aec6c86bc3ec2e": {
          "model_module": "@jupyter-widgets/base",
          "model_name": "LayoutModel",
          "state": {
            "_view_name": "LayoutView",
            "grid_template_rows": null,
            "right": null,
            "justify_content": null,
            "_view_module": "@jupyter-widgets/base",
            "overflow": null,
            "_model_module_version": "1.2.0",
            "_view_count": null,
            "flex_flow": null,
            "width": null,
            "min_width": null,
            "border": null,
            "align_items": null,
            "bottom": null,
            "_model_module": "@jupyter-widgets/base",
            "top": null,
            "grid_column": null,
            "overflow_y": null,
            "overflow_x": null,
            "grid_auto_flow": null,
            "grid_area": null,
            "grid_template_columns": null,
            "flex": null,
            "_model_name": "LayoutModel",
            "justify_items": null,
            "grid_row": null,
            "max_height": null,
            "align_content": null,
            "visibility": null,
            "align_self": null,
            "height": null,
            "min_height": null,
            "padding": null,
            "grid_auto_rows": null,
            "grid_gap": null,
            "max_width": null,
            "order": null,
            "_view_module_version": "1.2.0",
            "grid_template_areas": null,
            "object_position": null,
            "object_fit": null,
            "grid_auto_columns": null,
            "margin": null,
            "display": null,
            "left": null
          }
        },
        "e85141a295a74e63ba3468e288ec7e52": {
          "model_module": "@jupyter-widgets/controls",
          "model_name": "HBoxModel",
          "state": {
            "_view_name": "HBoxView",
            "_dom_classes": [],
            "_model_name": "HBoxModel",
            "_view_module": "@jupyter-widgets/controls",
            "_model_module_version": "1.5.0",
            "_view_count": null,
            "_view_module_version": "1.5.0",
            "box_style": "",
            "layout": "IPY_MODEL_c250453b28bc4d7baabe92293f3b9a6a",
            "_model_module": "@jupyter-widgets/controls",
            "children": [
              "IPY_MODEL_f8a458f8cb6a4ae7a78e1a2caddd3a3d",
              "IPY_MODEL_7066cfb0c0d3418bb4fe4a32d51ae554"
            ]
          }
        },
        "c250453b28bc4d7baabe92293f3b9a6a": {
          "model_module": "@jupyter-widgets/base",
          "model_name": "LayoutModel",
          "state": {
            "_view_name": "LayoutView",
            "grid_template_rows": null,
            "right": null,
            "justify_content": null,
            "_view_module": "@jupyter-widgets/base",
            "overflow": null,
            "_model_module_version": "1.2.0",
            "_view_count": null,
            "flex_flow": null,
            "width": null,
            "min_width": null,
            "border": null,
            "align_items": null,
            "bottom": null,
            "_model_module": "@jupyter-widgets/base",
            "top": null,
            "grid_column": null,
            "overflow_y": null,
            "overflow_x": null,
            "grid_auto_flow": null,
            "grid_area": null,
            "grid_template_columns": null,
            "flex": null,
            "_model_name": "LayoutModel",
            "justify_items": null,
            "grid_row": null,
            "max_height": null,
            "align_content": null,
            "visibility": null,
            "align_self": null,
            "height": null,
            "min_height": null,
            "padding": null,
            "grid_auto_rows": null,
            "grid_gap": null,
            "max_width": null,
            "order": null,
            "_view_module_version": "1.2.0",
            "grid_template_areas": null,
            "object_position": null,
            "object_fit": null,
            "grid_auto_columns": null,
            "margin": null,
            "display": null,
            "left": null
          }
        },
        "f8a458f8cb6a4ae7a78e1a2caddd3a3d": {
          "model_module": "@jupyter-widgets/controls",
          "model_name": "FloatProgressModel",
          "state": {
            "_view_name": "ProgressView",
            "style": "IPY_MODEL_b4c7b12e05334c16bc5b6b4cd03ebe4c",
            "_dom_classes": [],
            "description": "Batches: 100%",
            "_model_name": "FloatProgressModel",
            "bar_style": "success",
            "max": 1,
            "_view_module": "@jupyter-widgets/controls",
            "_model_module_version": "1.5.0",
            "value": 1,
            "_view_count": null,
            "_view_module_version": "1.5.0",
            "orientation": "horizontal",
            "min": 0,
            "description_tooltip": null,
            "_model_module": "@jupyter-widgets/controls",
            "layout": "IPY_MODEL_51e66e6a8c2f4a2f8a0f2984443640a1"
          }
        },
        "7066cfb0c0d3418bb4fe4a32d51ae554": {
          "model_module": "@jupyter-widgets/controls",
          "model_name": "HTMLModel",
          "state": {
            "_view_name": "HTMLView",
            "style": "IPY_MODEL_a0f7b94bb4c54ae88a2c05070d41891d",
            "_dom_classes": [],
            "description": "",
            "_model_name": "HTMLModel",
            "placeholder": "​",
            "_view_module": "@jupyter-widgets/controls",
            "_model_module_version": "1.5.0",
            "value": " 1/1 [03:19&lt;00:00, 199.12s/it]",
            "_view_count": null,
            "_view_module_version": "1.5.0",
            "description_tooltip": null,
            "_model_module": "@jupyter-widgets/controls",
            "layout": "IPY_MODEL_bcb8f09ca8ac4f999d92eaa70c64f87d"
          }
        },
        "b4c7b12e05334c16bc5b6b4cd03ebe4c": {
          "model_module": "@jupyter-widgets/controls",
          "model_name": "ProgressStyleModel",
          "state": {
            "_view_name": "StyleView",
            "_model_name": "ProgressStyleModel",
            "description_width": "initial",
            "_view_module": "@jupyter-widgets/base",
            "_model_module_version": "1.5.0",
            "_view_count": null,
            "_view_module_version": "1.2.0",
            "bar_color": null,
            "_model_module": "@jupyter-widgets/controls"
          }
        },
        "51e66e6a8c2f4a2f8a0f2984443640a1": {
          "model_module": "@jupyter-widgets/base",
          "model_name": "LayoutModel",
          "state": {
            "_view_name": "LayoutView",
            "grid_template_rows": null,
            "right": null,
            "justify_content": null,
            "_view_module": "@jupyter-widgets/base",
            "overflow": null,
            "_model_module_version": "1.2.0",
            "_view_count": null,
            "flex_flow": null,
            "width": null,
            "min_width": null,
            "border": null,
            "align_items": null,
            "bottom": null,
            "_model_module": "@jupyter-widgets/base",
            "top": null,
            "grid_column": null,
            "overflow_y": null,
            "overflow_x": null,
            "grid_auto_flow": null,
            "grid_area": null,
            "grid_template_columns": null,
            "flex": null,
            "_model_name": "LayoutModel",
            "justify_items": null,
            "grid_row": null,
            "max_height": null,
            "align_content": null,
            "visibility": null,
            "align_self": null,
            "height": null,
            "min_height": null,
            "padding": null,
            "grid_auto_rows": null,
            "grid_gap": null,
            "max_width": null,
            "order": null,
            "_view_module_version": "1.2.0",
            "grid_template_areas": null,
            "object_position": null,
            "object_fit": null,
            "grid_auto_columns": null,
            "margin": null,
            "display": null,
            "left": null
          }
        },
        "a0f7b94bb4c54ae88a2c05070d41891d": {
          "model_module": "@jupyter-widgets/controls",
          "model_name": "DescriptionStyleModel",
          "state": {
            "_view_name": "StyleView",
            "_model_name": "DescriptionStyleModel",
            "description_width": "",
            "_view_module": "@jupyter-widgets/base",
            "_model_module_version": "1.5.0",
            "_view_count": null,
            "_view_module_version": "1.2.0",
            "_model_module": "@jupyter-widgets/controls"
          }
        },
        "bcb8f09ca8ac4f999d92eaa70c64f87d": {
          "model_module": "@jupyter-widgets/base",
          "model_name": "LayoutModel",
          "state": {
            "_view_name": "LayoutView",
            "grid_template_rows": null,
            "right": null,
            "justify_content": null,
            "_view_module": "@jupyter-widgets/base",
            "overflow": null,
            "_model_module_version": "1.2.0",
            "_view_count": null,
            "flex_flow": null,
            "width": null,
            "min_width": null,
            "border": null,
            "align_items": null,
            "bottom": null,
            "_model_module": "@jupyter-widgets/base",
            "top": null,
            "grid_column": null,
            "overflow_y": null,
            "overflow_x": null,
            "grid_auto_flow": null,
            "grid_area": null,
            "grid_template_columns": null,
            "flex": null,
            "_model_name": "LayoutModel",
            "justify_items": null,
            "grid_row": null,
            "max_height": null,
            "align_content": null,
            "visibility": null,
            "align_self": null,
            "height": null,
            "min_height": null,
            "padding": null,
            "grid_auto_rows": null,
            "grid_gap": null,
            "max_width": null,
            "order": null,
            "_view_module_version": "1.2.0",
            "grid_template_areas": null,
            "object_position": null,
            "object_fit": null,
            "grid_auto_columns": null,
            "margin": null,
            "display": null,
            "left": null
          }
        }
      }
    }
  },
  "cells": [
    {
      "cell_type": "code",
      "metadata": {
        "id": "F5j_gZnukb7f"
      },
      "source": [
        "!pip install git+https://github.com/deepset-ai/haystack.git\n",
        "!pip install sentence-transformers"
      ],
      "execution_count": null,
      "outputs": []
    },
    {
      "cell_type": "code",
      "metadata": {
        "id": "BCg1KeiRkky-"
      },
      "source": [
        "import os\n",
        "\n",
        "import pandas as pd\n",
        "import numpy as np\n",
        "\n",
        "from haystack.document_store.faiss import FAISSDocumentStore\n",
        "from haystack.retriever.dense import EmbeddingRetriever"
      ],
      "execution_count": 3,
      "outputs": []
    },
    {
      "cell_type": "code",
      "metadata": {
        "colab": {
          "base_uri": "https://localhost:8080/",
          "height": 272
        },
        "id": "ChpJkmjBl6PP",
        "outputId": "dfa8b2e3-94f8-4760-ae3b-4b14d6ba42f4"
      },
      "source": [
        "DIR = 'drive/MyDrive/AI'\n",
        "df = pd.read_csv('drive/MyDrive/AI/arxiv_short.csv')\n",
        "df.head()"
      ],
      "execution_count": 6,
      "outputs": [
        {
          "output_type": "execute_result",
          "data": {
            "text/html": [
              "<div>\n",
              "<style scoped>\n",
              "    .dataframe tbody tr th:only-of-type {\n",
              "        vertical-align: middle;\n",
              "    }\n",
              "\n",
              "    .dataframe tbody tr th {\n",
              "        vertical-align: top;\n",
              "    }\n",
              "\n",
              "    .dataframe thead th {\n",
              "        text-align: right;\n",
              "    }\n",
              "</style>\n",
              "<table border=\"1\" class=\"dataframe\">\n",
              "  <thead>\n",
              "    <tr style=\"text-align: right;\">\n",
              "      <th></th>\n",
              "      <th>authors</th>\n",
              "      <th>title</th>\n",
              "      <th>abstract</th>\n",
              "    </tr>\n",
              "  </thead>\n",
              "  <tbody>\n",
              "    <tr>\n",
              "      <th>0</th>\n",
              "      <td>C. Bal\\'azs, E. L. Berger, P. M. Nadolsky, C.-P. Yuan</td>\n",
              "      <td>Calculation of prompt diphoton production cross sections at Tevatron and\\n  ...</td>\n",
              "      <td>A fully differential calculation in perturbative quantum chromodynamics is...</td>\n",
              "    </tr>\n",
              "    <tr>\n",
              "      <th>1</th>\n",
              "      <td>Ileana Streinu and Louis Theran</td>\n",
              "      <td>Sparsity-certifying Graph Decompositions</td>\n",
              "      <td>We describe a new algorithm, the $(k,\\ell)$-pebble game with colors, and u...</td>\n",
              "    </tr>\n",
              "    <tr>\n",
              "      <th>2</th>\n",
              "      <td>Hongjun Pan</td>\n",
              "      <td>The evolution of the Earth-Moon system based on the dark matter field\\n  flu...</td>\n",
              "      <td>The evolution of Earth-Moon system is described by the dark matter field\\n...</td>\n",
              "    </tr>\n",
              "    <tr>\n",
              "      <th>3</th>\n",
              "      <td>David Callan</td>\n",
              "      <td>A determinant of Stirling cycle numbers counts unlabeled acyclic\\n  single-s...</td>\n",
              "      <td>We show that a determinant of Stirling cycle numbers counts unlabeled acyc...</td>\n",
              "    </tr>\n",
              "    <tr>\n",
              "      <th>4</th>\n",
              "      <td>Wael Abu-Shammala and Alberto Torchinsky</td>\n",
              "      <td>From dyadic $\\Lambda_{\\alpha}$ to $\\Lambda_{\\alpha}$</td>\n",
              "      <td>In this paper we show how to compute the $\\Lambda_{\\alpha}$ norm, $\\alpha\\...</td>\n",
              "    </tr>\n",
              "  </tbody>\n",
              "</table>\n",
              "</div>"
            ],
            "text/plain": [
              "                                                 authors  ...                                                                         abstract\n",
              "0  C. Bal\\'azs, E. L. Berger, P. M. Nadolsky, C.-P. Yuan  ...    A fully differential calculation in perturbative quantum chromodynamics is...\n",
              "1                        Ileana Streinu and Louis Theran  ...    We describe a new algorithm, the $(k,\\ell)$-pebble game with colors, and u...\n",
              "2                                            Hongjun Pan  ...    The evolution of Earth-Moon system is described by the dark matter field\\n...\n",
              "3                                           David Callan  ...    We show that a determinant of Stirling cycle numbers counts unlabeled acyc...\n",
              "4               Wael Abu-Shammala and Alberto Torchinsky  ...    In this paper we show how to compute the $\\Lambda_{\\alpha}$ norm, $\\alpha\\...\n",
              "\n",
              "[5 rows x 3 columns]"
            ]
          },
          "metadata": {
            "tags": []
          },
          "execution_count": 6
        }
      ]
    },
    {
      "cell_type": "code",
      "metadata": {
        "colab": {
          "base_uri": "https://localhost:8080/"
        },
        "id": "teVHtzjtlwvf",
        "outputId": "c1ce63fa-65b9-428e-84e9-02866ee25a37"
      },
      "source": [
        "df.isnull().sum()"
      ],
      "execution_count": 7,
      "outputs": [
        {
          "output_type": "execute_result",
          "data": {
            "text/plain": [
              "authors     0\n",
              "title       0\n",
              "abstract    0\n",
              "dtype: int64"
            ]
          },
          "metadata": {
            "tags": []
          },
          "execution_count": 7
        }
      ]
    },
    {
      "cell_type": "code",
      "metadata": {
        "colab": {
          "base_uri": "https://localhost:8080/",
          "height": 205,
          "referenced_widgets": [
            "fcd26e2cef914230b3274b6bf41b3ccd",
            "b54a879cfdd84e99b817cfa9052225d5",
            "d017e1d51702436181211bc7360f547a",
            "28b9915f4ead4a99bfef28baf5e9f047",
            "d3f2dda034a64a0999d2146594e7ee84",
            "7253cd6bfb86412cbc8e9ca61f3373ac",
            "2037b310573b4ccaa2f7682d1f356fa7",
            "e3afda5616884d4db80f2ff3c0ad8b32"
          ]
        },
        "id": "jfnk2Z12kxib",
        "outputId": "4dd11f6a-f8c4-442e-cabc-d78d25bb060f"
      },
      "source": [
        "document_store_faiss = FAISSDocumentStore(faiss_index_factory_str=\"Flat\",return_embedding=True)\n",
        "\n",
        "retriever_faiss = EmbeddingRetriever(document_store_faiss, embedding_model='distilroberta-base-msmarco-v2',model_format='sentence_transformers')"
      ],
      "execution_count": 8,
      "outputs": [
        {
          "output_type": "stream",
          "text": [
            "04/08/2021 03:49:30 - INFO - haystack.retriever.dense -   Init retriever using embeddings of model distilroberta-base-msmarco-v2\n",
            "04/08/2021 03:49:30 - INFO - sentence_transformers.SentenceTransformer -   Load pretrained SentenceTransformer: distilroberta-base-msmarco-v2\n",
            "04/08/2021 03:49:30 - INFO - sentence_transformers.SentenceTransformer -   Did not find folder distilroberta-base-msmarco-v2\n",
            "04/08/2021 03:49:30 - INFO - sentence_transformers.SentenceTransformer -   Search model on server: http://sbert.net/models/distilroberta-base-msmarco-v2.zip\n",
            "04/08/2021 03:49:30 - INFO - sentence_transformers.SentenceTransformer -   Downloading sentence transformer model from http://sbert.net/models/distilroberta-base-msmarco-v2.zip and saving it at /root/.cache/torch/sentence_transformers/sbert.net_models_distilroberta-base-msmarco-v2\n"
          ],
          "name": "stderr"
        },
        {
          "output_type": "display_data",
          "data": {
            "application/vnd.jupyter.widget-view+json": {
              "model_id": "fcd26e2cef914230b3274b6bf41b3ccd",
              "version_minor": 0,
              "version_major": 2
            },
            "text/plain": [
              "HBox(children=(FloatProgress(value=0.0, max=305420057.0), HTML(value='')))"
            ]
          },
          "metadata": {
            "tags": []
          }
        },
        {
          "output_type": "stream",
          "text": [
            "\n"
          ],
          "name": "stdout"
        },
        {
          "output_type": "stream",
          "text": [
            "04/08/2021 03:49:52 - INFO - sentence_transformers.SentenceTransformer -   Load SentenceTransformer from folder: /root/.cache/torch/sentence_transformers/sbert.net_models_distilroberta-base-msmarco-v2\n",
            "04/08/2021 03:49:54 - WARNING - haystack.retriever.dense -   You are using a Sentence Transformer with the dot_product function. We recommend using cosine instead. This can be set when initializing the DocumentStore\n"
          ],
          "name": "stderr"
        }
      ]
    },
    {
      "cell_type": "code",
      "metadata": {
        "id": "VOK74q05lRQE"
      },
      "source": [
        "document_store_faiss.delete_all_documents()\n",
        "document_store_faiss.write_documents(\n",
        "                                df[['authors', 'title', 'abstract']].rename(\n",
        "                                                                  columns={\n",
        "                                                                      'title':'name',\n",
        "                                                                      'author' : 'author',\n",
        "                                                                      'abstract':'text'\n",
        "                                                                   }\n",
        "                                                                 ).to_dict(orient='records'))"
      ],
      "execution_count": 10,
      "outputs": []
    },
    {
      "cell_type": "code",
      "metadata": {
        "colab": {
          "base_uri": "https://localhost:8080/",
          "height": 381,
          "referenced_widgets": [
            "80aaa14f9ffc4db5a010c77830b22cb8",
            "96b15b42c10e4f66a85c0865ac731e6b",
            "039f60331a8e4e8fb48e051ba50d414c",
            "50676454e38941dabb99fa2f7f3c4c66",
            "9b41c316ce1b4590991ef99cf760612e",
            "1e73a324252b42509112d0c67eefb853",
            "9820e93d3fd64f458cbebecc9b52fdb6",
            "77b31e241b3c48cfb8baba7d6fb7facd",
            "4dcab80e37a84769ba7757143ffe4028",
            "5ecef7639b0c44cd8ef737a06cebb9ec",
            "4249af7219f14df3a54e1457a991d664",
            "c4ded71b477043af813ec9d30d6994a2",
            "478dba03db5648a79544bebe03f9d9e2",
            "45230c8e86584b88a36756b2c88aa799",
            "d0a9fcef83654c8fbc32f6b938532fff",
            "43fa926359d049f0957a5a01d9488528",
            "5850b0a05cd548e583ab35e089c2eadc",
            "56099be53a3447358347884dd939fdc9",
            "737c7e06b01f449d8ab609111c3d8b44",
            "4cc42b3d57604e72bcea13d8f1baba2c",
            "072c332c462941589cd58bd62b7ee127",
            "2616fe8a3a854c2ea593203cab4a0568",
            "18cb9876d091491b84ea0a62f26381ba",
            "373ee3f4232b41bea6b9a834c1a8854c",
            "bd710321dc6a412dbef4ec08ce738af6",
            "6c58aebed63240838c24ea3f1557d7bf",
            "50db6ec6a4a4401b956a042b5b431943",
            "926cd32be1bd4dd0b72b22af10d29f13",
            "9e482da1485d40a98b3b82aa1bcfe3af",
            "a46ffdb42c614ad1b32e34c3324dd616",
            "f51203ef5ff44c3e9a29dfdad22a45ac",
            "bd4f1ba54b0d4c68bcaae102d7cc44e0",
            "7a7756ecb4ec4c2490c41cf7e09d3824",
            "c25692d9fcfb4bb4b7bbf0d94a4d79be",
            "1df0a7a257ee487ab4e9d88b35f2eea6",
            "dcbae27f4961499a9bb25bf2020dba0e",
            "77cec5c593c84ce597f068e26319ecd8",
            "3ca12f4de00d417195f4906ed9e03bfc",
            "6371b02749e04a64a80eccc9b6bf7944",
            "01146b767a4f4b7ba0aec6c86bc3ec2e"
          ]
        },
        "id": "Rr-sZBBvlUKB",
        "outputId": "27f7c8ed-8ce1-4ccd-e485-2c54c06c60bd"
      },
      "source": [
        "document_store_faiss.update_embeddings(retriever=retriever_faiss)"
      ],
      "execution_count": 11,
      "outputs": [
        {
          "output_type": "stream",
          "text": [
            "04/08/2021 03:51:54 - INFO - haystack.document_store.faiss -   Updating embeddings for 50000 docs...\n",
            "  0%|          | 0/50000 [00:00<?, ?it/s]"
          ],
          "name": "stderr"
        },
        {
          "output_type": "display_data",
          "data": {
            "application/vnd.jupyter.widget-view+json": {
              "model_id": "80aaa14f9ffc4db5a010c77830b22cb8",
              "version_minor": 0,
              "version_major": 2
            },
            "text/plain": [
              "HBox(children=(FloatProgress(value=0.0, description='Batches', max=313.0, style=ProgressStyle(description_widt…"
            ]
          },
          "metadata": {
            "tags": []
          }
        },
        {
          "output_type": "stream",
          "text": [
            "\n"
          ],
          "name": "stdout"
        },
        {
          "output_type": "stream",
          "text": [
            "\r 20%|██        | 10000/50000 [01:21<05:24, 123.36it/s]"
          ],
          "name": "stderr"
        },
        {
          "output_type": "display_data",
          "data": {
            "application/vnd.jupyter.widget-view+json": {
              "model_id": "4dcab80e37a84769ba7757143ffe4028",
              "version_minor": 0,
              "version_major": 2
            },
            "text/plain": [
              "HBox(children=(FloatProgress(value=0.0, description='Batches', max=313.0, style=ProgressStyle(description_widt…"
            ]
          },
          "metadata": {
            "tags": []
          }
        },
        {
          "output_type": "stream",
          "text": [
            "\r 20%|██        | 10000/50000 [01:40<05:24, 123.36it/s]"
          ],
          "name": "stderr"
        },
        {
          "output_type": "stream",
          "text": [
            "\n"
          ],
          "name": "stdout"
        },
        {
          "output_type": "stream",
          "text": [
            "\r 40%|████      | 20000/50000 [02:45<04:06, 121.84it/s]"
          ],
          "name": "stderr"
        },
        {
          "output_type": "display_data",
          "data": {
            "application/vnd.jupyter.widget-view+json": {
              "model_id": "5850b0a05cd548e583ab35e089c2eadc",
              "version_minor": 0,
              "version_major": 2
            },
            "text/plain": [
              "HBox(children=(FloatProgress(value=0.0, description='Batches', max=313.0, style=ProgressStyle(description_widt…"
            ]
          },
          "metadata": {
            "tags": []
          }
        },
        {
          "output_type": "stream",
          "text": [
            "\r 40%|████      | 20000/50000 [03:00<04:06, 121.84it/s]"
          ],
          "name": "stderr"
        },
        {
          "output_type": "stream",
          "text": [
            "\n"
          ],
          "name": "stdout"
        },
        {
          "output_type": "stream",
          "text": [
            "\r 60%|██████    | 30000/50000 [04:06<02:43, 122.10it/s]"
          ],
          "name": "stderr"
        },
        {
          "output_type": "display_data",
          "data": {
            "application/vnd.jupyter.widget-view+json": {
              "model_id": "bd710321dc6a412dbef4ec08ce738af6",
              "version_minor": 0,
              "version_major": 2
            },
            "text/plain": [
              "HBox(children=(FloatProgress(value=0.0, description='Batches', max=313.0, style=ProgressStyle(description_widt…"
            ]
          },
          "metadata": {
            "tags": []
          }
        },
        {
          "output_type": "stream",
          "text": [
            "\r 60%|██████    | 30000/50000 [04:20<02:43, 122.10it/s]"
          ],
          "name": "stderr"
        },
        {
          "output_type": "stream",
          "text": [
            "\n"
          ],
          "name": "stdout"
        },
        {
          "output_type": "stream",
          "text": [
            "\r 80%|████████  | 40000/50000 [05:28<01:21, 122.50it/s]"
          ],
          "name": "stderr"
        },
        {
          "output_type": "display_data",
          "data": {
            "application/vnd.jupyter.widget-view+json": {
              "model_id": "7a7756ecb4ec4c2490c41cf7e09d3824",
              "version_minor": 0,
              "version_major": 2
            },
            "text/plain": [
              "HBox(children=(FloatProgress(value=0.0, description='Batches', max=313.0, style=ProgressStyle(description_widt…"
            ]
          },
          "metadata": {
            "tags": []
          }
        },
        {
          "output_type": "stream",
          "text": [
            "\r 80%|████████  | 40000/50000 [05:40<01:21, 122.50it/s]"
          ],
          "name": "stderr"
        },
        {
          "output_type": "stream",
          "text": [
            "\n"
          ],
          "name": "stdout"
        },
        {
          "output_type": "stream",
          "text": [
            "100%|██████████| 50000/50000 [06:50<00:00, 121.67it/s]\n"
          ],
          "name": "stderr"
        }
      ]
    },
    {
      "cell_type": "code",
      "metadata": {
        "id": "Bs11vxVSlWXd"
      },
      "source": [
        "def get_results(query, retriever, n_docs = 10):\n",
        "  return [(item.text, item.to_dict()['meta']) for item in retriever.retrieve(q, top_k = n_docs)]"
      ],
      "execution_count": 13,
      "outputs": []
    },
    {
      "cell_type": "code",
      "metadata": {
        "colab": {
          "base_uri": "https://localhost:8080/",
          "height": 307,
          "referenced_widgets": [
            "e85141a295a74e63ba3468e288ec7e52",
            "c250453b28bc4d7baabe92293f3b9a6a",
            "f8a458f8cb6a4ae7a78e1a2caddd3a3d",
            "7066cfb0c0d3418bb4fe4a32d51ae554",
            "b4c7b12e05334c16bc5b6b4cd03ebe4c",
            "51e66e6a8c2f4a2f8a0f2984443640a1",
            "a0f7b94bb4c54ae88a2c05070d41891d",
            "bcb8f09ca8ac4f999d92eaa70c64f87d"
          ]
        },
        "id": "IbKtawTOlWUq",
        "outputId": "ff86b397-81fd-4176-9130-41fdce6098cc"
      },
      "source": [
        "q = 'Poisson Dirichlet distribution with two-parameters'\n",
        "print('-'*100)\n",
        "print('Results: ')\n",
        "print('-'*75)\n",
        "res = get_results(q, retriever_faiss) \n",
        "for r in res:\n",
        "  print(r) "
      ],
      "execution_count": 18,
      "outputs": [
        {
          "output_type": "stream",
          "text": [
            "----------------------------------------------------------------------------------------------------\n",
            "Results: \n",
            "---------------------------------------------------------------------------\n"
          ],
          "name": "stdout"
        },
        {
          "output_type": "display_data",
          "data": {
            "application/vnd.jupyter.widget-view+json": {
              "model_id": "e85141a295a74e63ba3468e288ec7e52",
              "version_minor": 0,
              "version_major": 2
            },
            "text/plain": [
              "HBox(children=(FloatProgress(value=0.0, description='Batches', max=1.0, style=ProgressStyle(description_width=…"
            ]
          },
          "metadata": {
            "tags": []
          }
        },
        {
          "output_type": "stream",
          "text": [
            "\n",
            "('  The two-parameter Poisson--Dirichlet distribution is a probability\\ndistribution on the totality of positive decreasing sequences with sum 1 and\\nhence considered to govern masses of a random discrete distribution. A\\ncharacterization of the associated point process (that is, the random point\\nprocess obtained by regarding the masses as points in the positive real line)\\nis given in terms of the correlation functions. Using this, we apply the theory\\nof point processes to reveal the mathematical structure of the two-parameter\\nPoisson--Dirichlet distribution. Also, developing the Laplace transform\\napproach due to Pitman and Yor, we are able to extend several results\\npreviously known for the one-parameter case. The Markov--Krein identity for the\\ngeneralized Dirichlet process is discussed from the point of view of functional\\nanalysis based on the two-parameter Poisson--Dirichlet distribution.\\n', {'vector_id': '7498', 'authors': 'Kenji Handa', 'name': 'The two-parameter Poisson--Dirichlet point process'})\n",
            "('  The Poisson--Dirichlet distribution arises in many different areas. The\\nparameter $\\\\theta$ in the distribution is the scaled mutation rate of a\\npopulation in the context of population genetics. The limiting case of $\\\\theta$\\napproaching infinity is practically motivated and has led to new, interesting\\nmathematical structures. Laws of large numbers, fluctuation theorems and\\nlarge-deviation results have been established. In this paper,\\nmoderate-deviation principles are established for the Poisson--Dirichlet\\ndistribution, the GEM distribution, the homozygosity, and the Dirichlet process\\nwhen the parameter $\\\\theta$ approaches infinity. These results, combined with\\nearlier work, not only provide a relatively complete picture of the asymptotic\\nbehavior of the Poisson--Dirichlet distribution for large $\\\\theta$, but also\\nlead to a better understanding of the large deviation problem associated with\\nthe scaled homozygosity. They also reveal some new structures that are not\\nobserved in existing large-deviation results.\\n', {'vector_id': '30366', 'authors': 'Shui Feng, Fuqing Gao', 'name': 'Moderate deviations for Poisson--Dirichlet distribution'})\n",
            "('  This paper explores large sample properties of the two-parameter\\n$(\\\\alpha,\\\\theta)$ Poisson--Dirichlet Process in two contexts. In a Bayesian\\ncontext of estimating an unknown probability measure, viewing this process as a\\nnatural extension of the Dirichlet process, we explore the consistency and weak\\nconvergence of the the two-parameter Poisson--Dirichlet posterior process. We\\nalso establish the weak convergence of properly centered two-parameter\\nPoisson--Dirichlet processes for large $\\\\theta+n\\\\alpha.$ This latter result\\ncomplements large $\\\\theta$ results for the Dirichlet process and\\nPoisson--Dirichlet sequences, and complements a recent result on large\\ndeviation principles for the two-parameter Poisson--Dirichlet process. A\\ncrucial component of our results is the use of distributional identities that\\nmay be useful in other contexts.\\n', {'vector_id': '22145', 'authors': 'Lancelot F. James', 'name': 'Large sample asymptotics for the two-parameter Poisson--Dirichlet\\n  process'})\n",
            "('  We show that for $0<\\\\alpha<1$ and $\\\\theta>-\\\\alpha$, the Poisson-Dirichlet\\ndistribution with parameter $(\\\\alpha, \\\\theta)$ is the unique reversible\\ndistribution of a rather natural fragmentation-coalescence process. This\\ncompletes earlier results in the literature for certain split and merge\\ntransformations and the parameter $\\\\alpha =0$.\\n', {'vector_id': '3121', 'authors': 'Jean Bertoin (PMA, Dma)', 'name': 'Two-parameter Poisson-Dirichlet measures and reversible exchangeable\\n  fragmentation-coalescence processes'})\n",
            "('  The masses of negative parity $(70,1^-)$ charmed nonstrange baryons are\\ncalculated in the relativistic quark model. The relativistic three-quark\\nequations of the $(70,1^-)$ charmed baryon multiplet are found in the framework\\nof the dispersion relation technique. The approximate solutions of these\\nequations using the method based on the extraction of leading singularities of\\nthe amplitude are obtained. The calculated mass values of the $(70,1^-)$\\ncharmed baryons are in good agreement with the experimental data.\\n', {'vector_id': '22662', 'authors': 'S. M. Gerasyuta and E. E. Matskevich', 'name': 'Charmed ${\\\\bf (70,1^-)}$ baryon multiplet'})\n",
            "('  We present a measurement of the fractions F_0 and F_+ of longitudinally\\npolarized and right-handed W bosons in top-quark decays using data collected\\nwith the CDF II detector. The data set used in the analysis corresponds to an\\nintegrated luminosity of approximately 955 pb-1. We select top-antitop\\ncandidate events with one lepton, at least four jets, and missing transverse\\nenergy. Our helicity measurement uses the decay angle theta*, which is defined\\nas the angle between the momentum of the charged lepton in the W boson\\nrest-frame and the W momentum in the top-quark rest-frame. The cos(theta*)\\ndistribution in the data is determined by full kinematic reconstruction of the\\ntop-antotop candidates. We find F_0 = 0.59 +- 0.12 (stat) +0.07 -0.06 (syst)\\nand F_+ = -0.03 +- 0.06 (stat) +0.04 -0.03 (syst), which is consistent with the\\nstandard model prediction. We set an upper limit on the fraction of\\nright-handed W-bosons of F_+ < 0.1 at the 95% confidence level.\\n', {'vector_id': '6968', 'authors': 'Thorsten Chwalek', 'name': 'Measurement of the W-boson helicity fractions in top-quark decays at CDF'})\n",
            "(\"  Dilepton production in nucleus-nucleus collisions at 1-2 A GeV as well as in\\nelementary pp and pd reactions is studied within the microscopic HSD transport\\napproach which includes the off-shell dynamics of vector mesons explicitly. The\\nstudy addresses additionally the production of $\\\\pi^0$ and $\\\\eta$ mesons since\\ntheir Dalitz decays provide a sizeable contribution to the dilepton invariant\\nmass spectra up to about 0.5 GeV. Our transport results agree with the TAPS\\nexperimental data on $\\\\pi$ and $\\\\eta$ multiplicities in C+C collisions from 0.8\\nto 2 A GeV. We find that the 'DLS-puzzle' - which addresses an underestimation\\nof the $e^+e^-$ yield in the mass range from 0.2 to 0.5 GeV in C+C and Ca+Ca\\ncollisions - may be solved when incorporating a stronger bremsstrahlung\\ncontribution in line with recent OBE calculations. Moreover, the HSD results\\nwith 'enhanced' bremsstrahlung cross sections agree very well with the HADES\\nexperimental data for the dilepton mass spectra for C+C at 1 and 2 A GeV,\\nespecially when including a collisional broadening in the vector-meson spectral\\nfunctions. Detailed predictions for dilepton spectra from pp and pn/pd\\nreactions at 1.25 GeV, 2.2 GeV and 3.5 GeV are presented which will allow to\\nverify/falsify the larger bremsstrahlung contributions from the experimental\\nside in the near future.\\n\", {'vector_id': '38556', 'authors': 'E.L. Bratkovskaya (FIAS, Uni. Frankfurt), W. Cassing (Uni. Giessen)', 'name': 'Dilepton production and off-shell transport dynamics at SIS energies'})\n",
            "('  The spin structure functions g_1 for the proton and the deuteron have been\\nmeasured over a wide kinematic range in x and Q2 using 1.6 and 5.7 GeV\\nlongitudinally polarized electrons incident upon polarized NH_3 and ND_3\\ntargets at Jefferson Lab. Scattered electrons were detected in the CEBAF Large\\nAcceptance Spectrometer, for 0.05 < Q^2 < 5 GeV^2 and W < 3 GeV. The first\\nmoments of g_1 for the proton and deuteron are presented -- both have a\\nnegative slope at low Q^2, as predicted by the extended Gerasimov-Drell-Hearn\\nsum rule. The first result for the generalized forward spin polarizability of\\nthe proton gamma_0^p is also reported. This quantity shows strong Q^2\\ndependence at low Q^2, while Q^6\\\\gamma_0^p seems to flatten out at the highest\\nQ^2 accessed by our experiment. Although the first moments of g_1 are\\nconsistent with Chiral Perturbation Theory (ChPT) calculations up to\\napproximately Q^2 = 0.06 GeV^2, a significant discrepancy is observed between\\nthe \\\\gamma_0^p data and ChPT for gamma_0^p, even at the lowest Q2.\\n', {'vector_id': '49529', 'authors': 'Y. Prok, P. Bosted, V.D. Burkert, A. Deur, K.V. Dharmawardane, G.E.\\n  Dodge, K.A. Griffioen, S.E. Kuhn, R. Minehart, and the CLAS Collaboration', 'name': 'Moments of the Spin Structure Functions g_1^p and g_1^d for 0.05 < Q^2 <\\n  3.0 GeV^2'})\n",
            "('  We present a model for inclusive charged lepton-nucleon and\\n(anti)neutrino-nucleon cross sections at momentum transfer squared, $Q^2$,\\n$\\\\sim1 {\\\\rm GeV}^2$. We quantify the impact of existing low-Q charged-lepton\\ndeep-inelastic scattering (DIS) data on effects due to high-twist operators and\\non the extraction of parton distribution functions (PDFs). No evidence is found\\nfor twist-6 contributions to structure functions (SF), and for a twist-4 term\\nin the logitudinal SF at $x\\\\gtrsim0.1$. We find that DIS data are consistent\\nwith the NNLO QCD approximation with the target mass and phenomenological high\\ntwist corrections. For $Q^2<1 {\\\\rm GeV}^2$, we extend extrapolation of the\\noperator product expansion, preserving the low-$Q$ current-conservation\\ntheorems. The procedure yields a good description of data down to $Q^2\\\\sim 0.5\\n{\\\\rm GeV}^2$. An updated set of PDFs with reduced uncertainty and applicable\\ndown to small momentum transfers in the lepton-nucleon scattering is obtained.\\n', {'vector_id': '27071', 'authors': 'S. Alekhin, S.A. Kulagin and R. Petti', 'name': 'Modeling Lepton-Nucleon Inelastic Scattering from High to Low Momentum\\n  Transfer'})\n",
            "('  We study the nuclear modification factors RAA and RCP of the high transverse\\nmomentum 5<pt<60 GeV/c distribution of muons in Pb--Pb collisions at LHC\\nenergies. We consider two pseudo-rapidity ranges covered by the LHC\\nexperiments: $|\\\\eta|<2.5$ and $2.5<\\\\eta<4$. Muons from semi-leptonic decays of\\nheavy quarks (c and b) and from leptonic decays of weak gauge bosons (W and Z)\\nare the main contributions to the muon pt distribution above a few GeV/c. We\\ncompute the heavy quark contributions using available pQCD-based programs. We\\ninclude the nuclear shadowing modification of the parton distribution functions\\nand the in-medium radiative energy loss for heavy quarks, using the\\nmass-dependent BDMPS quenching weights. Muons from W and Z leptonic decays,\\nthat dominate the yield at high pt, can be used as a medium-blind reference to\\nobserve the medium-induced suppression of beauty quarks.\\n', {'vector_id': '37972', 'authors': \"Z. Conesa del Valle, A. Dainese, H.-T. Ding, G. Mart\\\\'inez Garc\\\\'ia,\\n  D.C. Zhou\", 'name': 'Effect of heavy-quark energy loss on the muon differential production\\n  cross section in Pb-Pb collisions at \\\\sqrtsNN=5.5 TeV'})\n"
          ],
          "name": "stdout"
        }
      ]
    },
    {
      "cell_type": "code",
      "metadata": {
        "id": "fHjUaHNVoqzo"
      },
      "source": [
        ""
      ],
      "execution_count": null,
      "outputs": []
    }
  ]
}